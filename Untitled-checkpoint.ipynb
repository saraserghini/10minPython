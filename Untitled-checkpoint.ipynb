{
 "cells": [
  {
   "cell_type": "markdown",
   "metadata": {},
   "source": [
    "Contexte préliminaire:\n",
    "\n",
    "Donc, vous voulez apprendre le langage de programmation Python, mais ne peut pas trouver un tutoriel concis mais complet. Ce tutoriel va essayer de vous apprendre Python en 10 minutes. Ce n'est probablement pas un tutoriel car il s'agit d'un croisement entre un didacticiel et un cheatsheet, donc il va juste vous montrer quelques concepts de base pour vous démarrer. Évidemment, si vous voulez vraiment apprendre une langue, vous devez programmer en elle pendant un certain temps. Je suppose que vous êtes déjà familier avec la programmation et, par conséquent, sauter la plupart des choses non spécifiques à la langue. Les mots clés importants seront mis en évidence afin que vous puissiez facilement les repérer. Aussi, attention car, en raison de la terseness de ce tutoriel, certaines choses seront introduites directement dans le code et seulement brièvement commentés.\n"
   ]
  },
  {
   "cell_type": "markdown",
   "metadata": {},
   "source": [
    "\n",
    "#Propriétés:\n",
    "Python est fortement typé (c'est-à-dire que les types sont appliqués), dynamiquement, implicitement tapé (c'est-à-dire que vous n'avez pas à déclarer les variables), sensible à la casse (var et VAR sont deux variables différentes) "
   ]
  },
  {
   "cell_type": "markdown",
   "metadata": {},
   "source": [
    "\n",
    "#Obtenir de l'aide:\n",
    "L'aide en Python est toujours disponible directement dans l'interpréteur. Si vous voulez savoir comment un objet fonctionne, vous n'avez qu'à appeler help (<object>)! Aussi utile sont dir (), qui montre toutes les méthodes de l'objet, et <object> .__ doc__, qui vous montre sa chaîne de documentation:"
   ]
  },
  {
   "cell_type": "code",
   "execution_count": 5,
   "metadata": {
    "collapsed": false
   },
   "outputs": [
    {
     "name": "stdout",
     "output_type": "stream",
     "text": [
      "Help on int object:\n",
      "\n",
      "class int(object)\n",
      " |  int(x=0) -> integer\n",
      " |  int(x, base=10) -> integer\n",
      " |  \n",
      " |  Convert a number or string to an integer, or return 0 if no arguments\n",
      " |  are given.  If x is a number, return x.__int__().  For floating point\n",
      " |  numbers, this truncates towards zero.\n",
      " |  \n",
      " |  If x is not a number or if base is given, then x must be a string,\n",
      " |  bytes, or bytearray instance representing an integer literal in the\n",
      " |  given base.  The literal can be preceded by '+' or '-' and be surrounded\n",
      " |  by whitespace.  The base defaults to 10.  Valid bases are 0 and 2-36.\n",
      " |  Base 0 means to interpret the base from the string as an integer literal.\n",
      " |  >>> int('0b100', base=0)\n",
      " |  4\n",
      " |  \n",
      " |  Methods defined here:\n",
      " |  \n",
      " |  __abs__(self, /)\n",
      " |      abs(self)\n",
      " |  \n",
      " |  __add__(self, value, /)\n",
      " |      Return self+value.\n",
      " |  \n",
      " |  __and__(self, value, /)\n",
      " |      Return self&value.\n",
      " |  \n",
      " |  __bool__(self, /)\n",
      " |      self != 0\n",
      " |  \n",
      " |  __ceil__(...)\n",
      " |      Ceiling of an Integral returns itself.\n",
      " |  \n",
      " |  __divmod__(self, value, /)\n",
      " |      Return divmod(self, value).\n",
      " |  \n",
      " |  __eq__(self, value, /)\n",
      " |      Return self==value.\n",
      " |  \n",
      " |  __float__(self, /)\n",
      " |      float(self)\n",
      " |  \n",
      " |  __floor__(...)\n",
      " |      Flooring an Integral returns itself.\n",
      " |  \n",
      " |  __floordiv__(self, value, /)\n",
      " |      Return self//value.\n",
      " |  \n",
      " |  __format__(...)\n",
      " |      default object formatter\n",
      " |  \n",
      " |  __ge__(self, value, /)\n",
      " |      Return self>=value.\n",
      " |  \n",
      " |  __getattribute__(self, name, /)\n",
      " |      Return getattr(self, name).\n",
      " |  \n",
      " |  __getnewargs__(...)\n",
      " |  \n",
      " |  __gt__(self, value, /)\n",
      " |      Return self>value.\n",
      " |  \n",
      " |  __hash__(self, /)\n",
      " |      Return hash(self).\n",
      " |  \n",
      " |  __index__(self, /)\n",
      " |      Return self converted to an integer, if self is suitable for use as an index into a list.\n",
      " |  \n",
      " |  __int__(self, /)\n",
      " |      int(self)\n",
      " |  \n",
      " |  __invert__(self, /)\n",
      " |      ~self\n",
      " |  \n",
      " |  __le__(self, value, /)\n",
      " |      Return self<=value.\n",
      " |  \n",
      " |  __lshift__(self, value, /)\n",
      " |      Return self<<value.\n",
      " |  \n",
      " |  __lt__(self, value, /)\n",
      " |      Return self<value.\n",
      " |  \n",
      " |  __mod__(self, value, /)\n",
      " |      Return self%value.\n",
      " |  \n",
      " |  __mul__(self, value, /)\n",
      " |      Return self*value.\n",
      " |  \n",
      " |  __ne__(self, value, /)\n",
      " |      Return self!=value.\n",
      " |  \n",
      " |  __neg__(self, /)\n",
      " |      -self\n",
      " |  \n",
      " |  __new__(*args, **kwargs) from builtins.type\n",
      " |      Create and return a new object.  See help(type) for accurate signature.\n",
      " |  \n",
      " |  __or__(self, value, /)\n",
      " |      Return self|value.\n",
      " |  \n",
      " |  __pos__(self, /)\n",
      " |      +self\n",
      " |  \n",
      " |  __pow__(self, value, mod=None, /)\n",
      " |      Return pow(self, value, mod).\n",
      " |  \n",
      " |  __radd__(self, value, /)\n",
      " |      Return value+self.\n",
      " |  \n",
      " |  __rand__(self, value, /)\n",
      " |      Return value&self.\n",
      " |  \n",
      " |  __rdivmod__(self, value, /)\n",
      " |      Return divmod(value, self).\n",
      " |  \n",
      " |  __repr__(self, /)\n",
      " |      Return repr(self).\n",
      " |  \n",
      " |  __rfloordiv__(self, value, /)\n",
      " |      Return value//self.\n",
      " |  \n",
      " |  __rlshift__(self, value, /)\n",
      " |      Return value<<self.\n",
      " |  \n",
      " |  __rmod__(self, value, /)\n",
      " |      Return value%self.\n",
      " |  \n",
      " |  __rmul__(self, value, /)\n",
      " |      Return value*self.\n",
      " |  \n",
      " |  __ror__(self, value, /)\n",
      " |      Return value|self.\n",
      " |  \n",
      " |  __round__(...)\n",
      " |      Rounding an Integral returns itself.\n",
      " |      Rounding with an ndigits argument also returns an integer.\n",
      " |  \n",
      " |  __rpow__(self, value, mod=None, /)\n",
      " |      Return pow(value, self, mod).\n",
      " |  \n",
      " |  __rrshift__(self, value, /)\n",
      " |      Return value>>self.\n",
      " |  \n",
      " |  __rshift__(self, value, /)\n",
      " |      Return self>>value.\n",
      " |  \n",
      " |  __rsub__(self, value, /)\n",
      " |      Return value-self.\n",
      " |  \n",
      " |  __rtruediv__(self, value, /)\n",
      " |      Return value/self.\n",
      " |  \n",
      " |  __rxor__(self, value, /)\n",
      " |      Return value^self.\n",
      " |  \n",
      " |  __sizeof__(...)\n",
      " |      Returns size in memory, in bytes\n",
      " |  \n",
      " |  __str__(self, /)\n",
      " |      Return str(self).\n",
      " |  \n",
      " |  __sub__(self, value, /)\n",
      " |      Return self-value.\n",
      " |  \n",
      " |  __truediv__(self, value, /)\n",
      " |      Return self/value.\n",
      " |  \n",
      " |  __trunc__(...)\n",
      " |      Truncating an Integral returns itself.\n",
      " |  \n",
      " |  __xor__(self, value, /)\n",
      " |      Return self^value.\n",
      " |  \n",
      " |  bit_length(...)\n",
      " |      int.bit_length() -> int\n",
      " |      \n",
      " |      Number of bits necessary to represent self in binary.\n",
      " |      >>> bin(37)\n",
      " |      '0b100101'\n",
      " |      >>> (37).bit_length()\n",
      " |      6\n",
      " |  \n",
      " |  conjugate(...)\n",
      " |      Returns self, the complex conjugate of any int.\n",
      " |  \n",
      " |  from_bytes(...) from builtins.type\n",
      " |      int.from_bytes(bytes, byteorder, *, signed=False) -> int\n",
      " |      \n",
      " |      Return the integer represented by the given array of bytes.\n",
      " |      \n",
      " |      The bytes argument must be a bytes-like object (e.g. bytes or bytearray).\n",
      " |      \n",
      " |      The byteorder argument determines the byte order used to represent the\n",
      " |      integer.  If byteorder is 'big', the most significant byte is at the\n",
      " |      beginning of the byte array.  If byteorder is 'little', the most\n",
      " |      significant byte is at the end of the byte array.  To request the native\n",
      " |      byte order of the host system, use `sys.byteorder' as the byte order value.\n",
      " |      \n",
      " |      The signed keyword-only argument indicates whether two's complement is\n",
      " |      used to represent the integer.\n",
      " |  \n",
      " |  to_bytes(...)\n",
      " |      int.to_bytes(length, byteorder, *, signed=False) -> bytes\n",
      " |      \n",
      " |      Return an array of bytes representing an integer.\n",
      " |      \n",
      " |      The integer is represented using length bytes.  An OverflowError is\n",
      " |      raised if the integer is not representable with the given number of\n",
      " |      bytes.\n",
      " |      \n",
      " |      The byteorder argument determines the byte order used to represent the\n",
      " |      integer.  If byteorder is 'big', the most significant byte is at the\n",
      " |      beginning of the byte array.  If byteorder is 'little', the most\n",
      " |      significant byte is at the end of the byte array.  To request the native\n",
      " |      byte order of the host system, use `sys.byteorder' as the byte order value.\n",
      " |      \n",
      " |      The signed keyword-only argument determines whether two's complement is\n",
      " |      used to represent the integer.  If signed is False and a negative integer\n",
      " |      is given, an OverflowError is raised.\n",
      " |  \n",
      " |  ----------------------------------------------------------------------\n",
      " |  Data descriptors defined here:\n",
      " |  \n",
      " |  denominator\n",
      " |      the denominator of a rational number in lowest terms\n",
      " |  \n",
      " |  imag\n",
      " |      the imaginary part of a complex number\n",
      " |  \n",
      " |  numerator\n",
      " |      the numerator of a rational number in lowest terms\n",
      " |  \n",
      " |  real\n",
      " |      the real part of a complex number\n",
      "\n"
     ]
    },
    {
     "data": {
      "text/plain": [
       "'Return the absolute value of the argument.'"
      ]
     },
     "execution_count": 5,
     "metadata": {},
     "output_type": "execute_result"
    }
   ],
   "source": [
    ">>> help(5)\n",
    "\n",
    "\n",
    ">>> dir(5)\n",
    "\n",
    "\n",
    ">>> abs.__doc__\n"
   ]
  },
  {
   "cell_type": "markdown",
   "metadata": {},
   "source": [
    "\n",
    "#Syntaxe:\n",
    "Python n'a pas de caractères obligatoires de terminaison d'instruction et les blocs sont spécifiés par indentation. Indent pour commencer un bloc, dedent à la fin d'un. Les instructions qui attendent un niveau d'indentation se terminent en deux points (:). Les commentaires commencent par le signe pound (#) et sont des lignes simples et multi-lignes qui sont utilisées pour les commentaires multilignes. Les valeurs sont assignées (en fait, les objets sont liés à des noms) avec le signe égal (\"=\"), et le test d'égalité est effectué en utilisant deux signes égaux (\"==\"). Vous pouvez incrémenter / décrémenter les valeurs en utilisant les opérateurs + = et - = respectivement par la valeur de droite. Cela fonctionne sur de nombreux types de données, chaînes incluses. Vous pouvez également utiliser plusieurs variables sur une seule ligne. Par exemple:"
   ]
  },
  {
   "cell_type": "code",
   "execution_count": 8,
   "metadata": {
    "collapsed": false
   },
   "outputs": [
    {
     "name": "stdout",
     "output_type": "stream",
     "text": [
      "Bonjour à tous!\n"
     ]
    }
   ],
   "source": [
    ">>> myvar = 3\n",
    ">>> myvar += 2\n",
    ">>> myvar\n",
    "\n",
    ">>> myvar -= 1\n",
    ">>> myvar\n",
    "\n",
    ">>> mystring = \"Bonjour\"\n",
    ">>> mystring += \" à tous!\"\n",
    ">>> print(mystring)\n",
    ">>> myvar, mystring = mystring, myvar"
   ]
  },
  {
   "cell_type": "markdown",
   "metadata": {},
   "source": [
    "#Types de données:\n",
    "Les structures de données disponibles en python sont des listes, des tuples et des dictionnaires. Les ensembles sont disponibles dans la bibliothèque des ensembles (mais sont intégrés dans Python 2.5 et versions ultérieures). Les listes sont comme des tableaux unidimensionnels (mais vous pouvez également avoir des listes d'autres listes), les dictionnaires sont des tableaux associatifs (tables de hachage aka) et les tuples sont des tableaux unidimensionnels immuables (les \"tableaux\" Python peuvent être de tout type, donc vous pouvez Mix, par exemple, entiers, chaînes, etc dans les listes / dictionnaires / tuples). L'index du premier élément dans tous les types de tableau est 0. Les nombres négatifs comptent de la fin vers le début, -1 est le dernier élément. Les variables peuvent pointer vers des fonctions. L'utilisation est la suivante:\n"
   ]
  },
  {
   "cell_type": "code",
   "execution_count": 44,
   "metadata": {
    "collapsed": false
   },
   "outputs": [
    {
     "name": "stdout",
     "output_type": "stream",
     "text": [
      "3\n"
     ]
    }
   ],
   "source": [
    ">>> sample = [1, [\"autre\", \"list\"], (\"a\", \"tuple\")]\n",
    ">>> list1 = [\"List art 1\", 2, 3.14]\n",
    ">>> list1[0] = \"List art 1 encore\" # on change d'article.\n",
    ">>> mylist[-1] = 3.21 # Ici, nous nous référons au dernier article.\n",
    ">>> dico = {\"Key 1\": \"Value 1\", 2: 3, \"pi\": 3.14}\n",
    ">>> dico[\"pi\"] = 3.15 # voila comment on change les valeurs du dictionnaire.\n",
    ">>> tup = (1, 2, 3)\n",
    ">>> fonct = len\n",
    ">>> print (fonct(list1))\n"
   ]
  },
  {
   "cell_type": "markdown",
   "metadata": {},
   "source": [
    "\n",
    "Vous pouvez accéder aux plages de tableau à l'aide de deux points (:). Laisser l'index de départ vide suppose le premier élément, laissant l'index final supposer le dernier élément. Les indices négatifs comptent à partir du dernier élément vers l'arrière (donc -1 est le dernier élément) comme suit:"
   ]
  },
  {
   "cell_type": "code",
   "execution_count": 14,
   "metadata": {
    "collapsed": false
   },
   "outputs": [
    {
     "name": "stdout",
     "output_type": "stream",
     "text": [
      "['List art 1', 2, 3.14]\n",
      "['List art 1', 2]\n",
      "['List art 1', 2]\n",
      "[2, 3.14]\n",
      "['List art 1', 3.14]\n"
     ]
    }
   ],
   "source": [
    ">>> malist = [\"List art 1\", 2, 3.14]\n",
    ">>> print (malist[:])\n",
    "\n",
    ">>> print (malist[0:2])\n",
    "\n",
    ">>> print (malist[-3:-1])\n",
    "\n",
    ">>> print (malist[1:])\n",
    "\n",
    ">>> print (malist[::2])\n"
   ]
  },
  {
   "cell_type": "markdown",
   "metadata": {},
   "source": [
    "#Chaine de caracteres:\n",
    "Ses chaînes peuvent utiliser des guillemets simples ou doubles, et vous pouvez avoir des guillemets d'un type à l'intérieur d'une chaîne qui utilise l'autre type (c'est-à-dire «Il a dit« bonjour ». Les chaînes de caractères multilignes sont encadrées par des guillemets triples (ou \"uniques\"). Python supporte Unicode hors de la boîte, en utilisant la syntaxe u \"Ceci est une chaîne unicode\". Modulo) et un tuple.Chaque% s est remplacé par un élément du tuple, de gauche à droite, et vous pouvez également utiliser des substitutions de dictionnaire comme suit:"
   ]
  },
  {
   "cell_type": "code",
   "execution_count": 34,
   "metadata": {
    "collapsed": false
   },
   "outputs": [
    {
     "name": "stdout",
     "output_type": "stream",
     "text": [
      "Nom: Nom\\ Numero: 3\\ Chaine: ---\n",
      "c est un test.\n"
     ]
    }
   ],
   "source": [
    "print (\"Nom: %s\\ Numero: %s\\ Chaine: %s\" % (\"Nom\", 3, 3 * \"-\"))\n",
    "\n",
    "\n",
    "strString = \"\"\"This is\n",
    "a multiline\n",
    "string.\"\"\"\n",
    "\n",
    "print (\"c %(verb)s un %(nom)s.\" % {\"nom\": \"test\", \"verb\": \"est\"})\n"
   ]
  },
  {
   "cell_type": "markdown",
   "metadata": {},
   "source": [
    "#Déclarations de contrôle de flux: \n",
    "Les instructions de contrôle de flux sont if, for et while. Il n'y a pas de commutateur; Utilisez plutôt if. Utiliser pour pour énumérer par les membres d'une liste. Pour obtenir une liste de numéros, utilisez la plage (<nombre>). La syntaxe de ces énoncés est donc:"
   ]
  },
  {
   "cell_type": "code",
   "execution_count": 43,
   "metadata": {
    "collapsed": false
   },
   "outputs": [
    {
     "ename": "IndentationError",
     "evalue": "expected an indented block (<ipython-input-43-31a7d835a2fa>, line 22)",
     "output_type": "error",
     "traceback": [
      "\u001b[0;36m  File \u001b[0;32m\"<ipython-input-43-31a7d835a2fa>\"\u001b[0;36m, line \u001b[0;32m22\u001b[0m\n\u001b[0;31m    print (\"The second item (lists are 0-based) is 2\")\u001b[0m\n\u001b[0m        ^\u001b[0m\n\u001b[0;31mIndentationError\u001b[0m\u001b[0;31m:\u001b[0m expected an indented block\n"
     ]
    }
   ],
   "source": [
    "rangelist = range(10)\n",
    ">>> print (rangelist\n",
    "[0, 1, 2, 3, 4, 5, 6, 7, 8, 9])\n",
    "for number in rangelist:\n",
    "    # Check if number is one of\n",
    "    # the numbers in the tuple.\n",
    "    if number in (3, 4, 7, 9):\n",
    "        # \"Break\" terminates a for without\n",
    "        # executing the \"else\" clause.\n",
    "        break\n",
    "    else:\n",
    "        # \"Continue\" starts the next iteration\n",
    "        # of the loop. It's rather useless here,\n",
    "        # as it's the last statement of the loop.\n",
    "        continue\n",
    "else:\n",
    "    # The \"else\" clause is optional and is\n",
    "    # executed only if the loop didn't \"break\".\n",
    "    pass # Do nothing\n",
    "\n",
    "if rangelist[1] == 2:\n",
    "    print (\"The second item (lists are 0-based) is 2\")\n",
    "elif rangelist[1] == 3:\n",
    "    print (\"he second item (lists are 0-based) is 3)\n",
    "else:\n",
    "    print (\"Dunno\")\n",
    "\n",
    "while rangelist[1] == 1:\n",
    "    pass"
   ]
  },
  {
   "cell_type": "code",
   "execution_count": null,
   "metadata": {
    "collapsed": true
   },
   "outputs": [],
   "source": []
  },
  {
   "cell_type": "code",
   "execution_count": null,
   "metadata": {
    "collapsed": true
   },
   "outputs": [],
   "source": []
  }
 ],
 "metadata": {
  "anaconda-cloud": {},
  "kernelspec": {
   "display_name": "Python [conda root]",
   "language": "python",
   "name": "conda-root-py"
  },
  "language_info": {
   "codemirror_mode": {
    "name": "ipython",
    "version": 3
   },
   "file_extension": ".py",
   "mimetype": "text/x-python",
   "name": "python",
   "nbconvert_exporter": "python",
   "pygments_lexer": "ipython3",
   "version": "3.5.2"
  }
 },
 "nbformat": 4,
 "nbformat_minor": 1
}
